{
  "cells": [
    {
      "cell_type": "code",
      "execution_count": null,
      "metadata": {
        "id": "HIPLtTKt-QFk"
      },
      "outputs": [],
      "source": [
        "import pandas as pd\n",
        "import matplotlib.pyplot as plt\n",
        "import seaborn as sns \n",
        "import numpy as np \n",
        "from sklearn.preprocessing import LabelEncoder,OneHotEncoder,MinMaxScaler,StandardScaler,PolynomialFeatures\n",
        "from sklearn.metrics import mean_squared_log_error,make_scorer\n"
      ]
    },
    {
      "cell_type": "markdown",
      "source": [
        "Download Dataset"
      ],
      "metadata": {
        "id": "23eTUMKaDKFq"
      }
    },
    {
      "cell_type": "code",
      "source": [
        "train_df=pd.read_csv('train.csv')\n",
        "test_df=pd.read_csv('test.csv')\n",
        "train_df"
      ],
      "metadata": {
        "colab": {
          "base_uri": "https://localhost:8080/",
          "height": 487
        },
        "id": "QpUx-L6R6Rjz",
        "outputId": "35284605-08a3-4394-c52f-cf72ebde5082"
      },
      "execution_count": null,
      "outputs": [
        {
          "output_type": "execute_result",
          "data": {
            "text/html": [
              "\n",
              "  <div id=\"df-b81a9c55-9eaa-4344-b909-57686d8d4525\">\n",
              "    <div class=\"colab-df-container\">\n",
              "      <div>\n",
              "<style scoped>\n",
              "    .dataframe tbody tr th:only-of-type {\n",
              "        vertical-align: middle;\n",
              "    }\n",
              "\n",
              "    .dataframe tbody tr th {\n",
              "        vertical-align: top;\n",
              "    }\n",
              "\n",
              "    .dataframe thead th {\n",
              "        text-align: right;\n",
              "    }\n",
              "</style>\n",
              "<table border=\"1\" class=\"dataframe\">\n",
              "  <thead>\n",
              "    <tr style=\"text-align: right;\">\n",
              "      <th></th>\n",
              "      <th>Id</th>\n",
              "      <th>Date</th>\n",
              "      <th>Hour</th>\n",
              "      <th>Temperature</th>\n",
              "      <th>Humidity</th>\n",
              "      <th>Wind_Speed</th>\n",
              "      <th>Visibility</th>\n",
              "      <th>Dew_Point</th>\n",
              "      <th>Solar_Radiation</th>\n",
              "      <th>Rainfall</th>\n",
              "      <th>Snowfall</th>\n",
              "      <th>Season</th>\n",
              "      <th>IsHoliday</th>\n",
              "      <th>IsFunctioningDay</th>\n",
              "      <th>Bikes_Rented</th>\n",
              "    </tr>\n",
              "  </thead>\n",
              "  <tbody>\n",
              "    <tr>\n",
              "      <th>0</th>\n",
              "      <td>0</td>\n",
              "      <td>01/12/2017</td>\n",
              "      <td>0</td>\n",
              "      <td>-5.2</td>\n",
              "      <td>37</td>\n",
              "      <td>2.2</td>\n",
              "      <td>2000</td>\n",
              "      <td>-17.6</td>\n",
              "      <td>0.0</td>\n",
              "      <td>0.0</td>\n",
              "      <td>0.0</td>\n",
              "      <td>Winter</td>\n",
              "      <td>0</td>\n",
              "      <td>1</td>\n",
              "      <td>254</td>\n",
              "    </tr>\n",
              "    <tr>\n",
              "      <th>1</th>\n",
              "      <td>1</td>\n",
              "      <td>01/12/2017</td>\n",
              "      <td>1</td>\n",
              "      <td>-5.5</td>\n",
              "      <td>38</td>\n",
              "      <td>0.8</td>\n",
              "      <td>2000</td>\n",
              "      <td>-17.6</td>\n",
              "      <td>0.0</td>\n",
              "      <td>0.0</td>\n",
              "      <td>0.0</td>\n",
              "      <td>Winter</td>\n",
              "      <td>0</td>\n",
              "      <td>1</td>\n",
              "      <td>204</td>\n",
              "    </tr>\n",
              "    <tr>\n",
              "      <th>2</th>\n",
              "      <td>2</td>\n",
              "      <td>01/12/2017</td>\n",
              "      <td>2</td>\n",
              "      <td>-6.0</td>\n",
              "      <td>39</td>\n",
              "      <td>1.0</td>\n",
              "      <td>2000</td>\n",
              "      <td>-17.7</td>\n",
              "      <td>0.0</td>\n",
              "      <td>0.0</td>\n",
              "      <td>0.0</td>\n",
              "      <td>Winter</td>\n",
              "      <td>0</td>\n",
              "      <td>1</td>\n",
              "      <td>173</td>\n",
              "    </tr>\n",
              "    <tr>\n",
              "      <th>3</th>\n",
              "      <td>3</td>\n",
              "      <td>01/12/2017</td>\n",
              "      <td>3</td>\n",
              "      <td>-6.2</td>\n",
              "      <td>40</td>\n",
              "      <td>0.9</td>\n",
              "      <td>2000</td>\n",
              "      <td>-17.6</td>\n",
              "      <td>0.0</td>\n",
              "      <td>0.0</td>\n",
              "      <td>0.0</td>\n",
              "      <td>Winter</td>\n",
              "      <td>0</td>\n",
              "      <td>1</td>\n",
              "      <td>107</td>\n",
              "    </tr>\n",
              "    <tr>\n",
              "      <th>4</th>\n",
              "      <td>4</td>\n",
              "      <td>01/12/2017</td>\n",
              "      <td>4</td>\n",
              "      <td>-6.0</td>\n",
              "      <td>36</td>\n",
              "      <td>2.3</td>\n",
              "      <td>2000</td>\n",
              "      <td>-18.6</td>\n",
              "      <td>0.0</td>\n",
              "      <td>0.0</td>\n",
              "      <td>0.0</td>\n",
              "      <td>Winter</td>\n",
              "      <td>0</td>\n",
              "      <td>1</td>\n",
              "      <td>78</td>\n",
              "    </tr>\n",
              "    <tr>\n",
              "      <th>...</th>\n",
              "      <td>...</td>\n",
              "      <td>...</td>\n",
              "      <td>...</td>\n",
              "      <td>...</td>\n",
              "      <td>...</td>\n",
              "      <td>...</td>\n",
              "      <td>...</td>\n",
              "      <td>...</td>\n",
              "      <td>...</td>\n",
              "      <td>...</td>\n",
              "      <td>...</td>\n",
              "      <td>...</td>\n",
              "      <td>...</td>\n",
              "      <td>...</td>\n",
              "      <td>...</td>\n",
              "    </tr>\n",
              "    <tr>\n",
              "      <th>7255</th>\n",
              "      <td>8755</td>\n",
              "      <td>30/11/2018</td>\n",
              "      <td>19</td>\n",
              "      <td>4.2</td>\n",
              "      <td>34</td>\n",
              "      <td>2.6</td>\n",
              "      <td>1894</td>\n",
              "      <td>-10.3</td>\n",
              "      <td>0.0</td>\n",
              "      <td>0.0</td>\n",
              "      <td>0.0</td>\n",
              "      <td>Autumn</td>\n",
              "      <td>0</td>\n",
              "      <td>1</td>\n",
              "      <td>1003</td>\n",
              "    </tr>\n",
              "    <tr>\n",
              "      <th>7256</th>\n",
              "      <td>8756</td>\n",
              "      <td>30/11/2018</td>\n",
              "      <td>20</td>\n",
              "      <td>3.4</td>\n",
              "      <td>37</td>\n",
              "      <td>2.3</td>\n",
              "      <td>2000</td>\n",
              "      <td>-9.9</td>\n",
              "      <td>0.0</td>\n",
              "      <td>0.0</td>\n",
              "      <td>0.0</td>\n",
              "      <td>Autumn</td>\n",
              "      <td>0</td>\n",
              "      <td>1</td>\n",
              "      <td>764</td>\n",
              "    </tr>\n",
              "    <tr>\n",
              "      <th>7257</th>\n",
              "      <td>8757</td>\n",
              "      <td>30/11/2018</td>\n",
              "      <td>21</td>\n",
              "      <td>2.6</td>\n",
              "      <td>39</td>\n",
              "      <td>0.3</td>\n",
              "      <td>1968</td>\n",
              "      <td>-9.9</td>\n",
              "      <td>0.0</td>\n",
              "      <td>0.0</td>\n",
              "      <td>0.0</td>\n",
              "      <td>Autumn</td>\n",
              "      <td>0</td>\n",
              "      <td>1</td>\n",
              "      <td>694</td>\n",
              "    </tr>\n",
              "    <tr>\n",
              "      <th>7258</th>\n",
              "      <td>8758</td>\n",
              "      <td>30/11/2018</td>\n",
              "      <td>22</td>\n",
              "      <td>2.1</td>\n",
              "      <td>41</td>\n",
              "      <td>1.0</td>\n",
              "      <td>1859</td>\n",
              "      <td>-9.8</td>\n",
              "      <td>0.0</td>\n",
              "      <td>0.0</td>\n",
              "      <td>0.0</td>\n",
              "      <td>Autumn</td>\n",
              "      <td>0</td>\n",
              "      <td>1</td>\n",
              "      <td>712</td>\n",
              "    </tr>\n",
              "    <tr>\n",
              "      <th>7259</th>\n",
              "      <td>8759</td>\n",
              "      <td>30/11/2018</td>\n",
              "      <td>23</td>\n",
              "      <td>1.9</td>\n",
              "      <td>43</td>\n",
              "      <td>1.3</td>\n",
              "      <td>1909</td>\n",
              "      <td>-9.3</td>\n",
              "      <td>0.0</td>\n",
              "      <td>0.0</td>\n",
              "      <td>0.0</td>\n",
              "      <td>Autumn</td>\n",
              "      <td>0</td>\n",
              "      <td>1</td>\n",
              "      <td>584</td>\n",
              "    </tr>\n",
              "  </tbody>\n",
              "</table>\n",
              "<p>7260 rows × 15 columns</p>\n",
              "</div>\n",
              "      <button class=\"colab-df-convert\" onclick=\"convertToInteractive('df-b81a9c55-9eaa-4344-b909-57686d8d4525')\"\n",
              "              title=\"Convert this dataframe to an interactive table.\"\n",
              "              style=\"display:none;\">\n",
              "        \n",
              "  <svg xmlns=\"http://www.w3.org/2000/svg\" height=\"24px\"viewBox=\"0 0 24 24\"\n",
              "       width=\"24px\">\n",
              "    <path d=\"M0 0h24v24H0V0z\" fill=\"none\"/>\n",
              "    <path d=\"M18.56 5.44l.94 2.06.94-2.06 2.06-.94-2.06-.94-.94-2.06-.94 2.06-2.06.94zm-11 1L8.5 8.5l.94-2.06 2.06-.94-2.06-.94L8.5 2.5l-.94 2.06-2.06.94zm10 10l.94 2.06.94-2.06 2.06-.94-2.06-.94-.94-2.06-.94 2.06-2.06.94z\"/><path d=\"M17.41 7.96l-1.37-1.37c-.4-.4-.92-.59-1.43-.59-.52 0-1.04.2-1.43.59L10.3 9.45l-7.72 7.72c-.78.78-.78 2.05 0 2.83L4 21.41c.39.39.9.59 1.41.59.51 0 1.02-.2 1.41-.59l7.78-7.78 2.81-2.81c.8-.78.8-2.07 0-2.86zM5.41 20L4 18.59l7.72-7.72 1.47 1.35L5.41 20z\"/>\n",
              "  </svg>\n",
              "      </button>\n",
              "      \n",
              "  <style>\n",
              "    .colab-df-container {\n",
              "      display:flex;\n",
              "      flex-wrap:wrap;\n",
              "      gap: 12px;\n",
              "    }\n",
              "\n",
              "    .colab-df-convert {\n",
              "      background-color: #E8F0FE;\n",
              "      border: none;\n",
              "      border-radius: 50%;\n",
              "      cursor: pointer;\n",
              "      display: none;\n",
              "      fill: #1967D2;\n",
              "      height: 32px;\n",
              "      padding: 0 0 0 0;\n",
              "      width: 32px;\n",
              "    }\n",
              "\n",
              "    .colab-df-convert:hover {\n",
              "      background-color: #E2EBFA;\n",
              "      box-shadow: 0px 1px 2px rgba(60, 64, 67, 0.3), 0px 1px 3px 1px rgba(60, 64, 67, 0.15);\n",
              "      fill: #174EA6;\n",
              "    }\n",
              "\n",
              "    [theme=dark] .colab-df-convert {\n",
              "      background-color: #3B4455;\n",
              "      fill: #D2E3FC;\n",
              "    }\n",
              "\n",
              "    [theme=dark] .colab-df-convert:hover {\n",
              "      background-color: #434B5C;\n",
              "      box-shadow: 0px 1px 3px 1px rgba(0, 0, 0, 0.15);\n",
              "      filter: drop-shadow(0px 1px 2px rgba(0, 0, 0, 0.3));\n",
              "      fill: #FFFFFF;\n",
              "    }\n",
              "  </style>\n",
              "\n",
              "      <script>\n",
              "        const buttonEl =\n",
              "          document.querySelector('#df-b81a9c55-9eaa-4344-b909-57686d8d4525 button.colab-df-convert');\n",
              "        buttonEl.style.display =\n",
              "          google.colab.kernel.accessAllowed ? 'block' : 'none';\n",
              "\n",
              "        async function convertToInteractive(key) {\n",
              "          const element = document.querySelector('#df-b81a9c55-9eaa-4344-b909-57686d8d4525');\n",
              "          const dataTable =\n",
              "            await google.colab.kernel.invokeFunction('convertToInteractive',\n",
              "                                                     [key], {});\n",
              "          if (!dataTable) return;\n",
              "\n",
              "          const docLinkHtml = 'Like what you see? Visit the ' +\n",
              "            '<a target=\"_blank\" href=https://colab.research.google.com/notebooks/data_table.ipynb>data table notebook</a>'\n",
              "            + ' to learn more about interactive tables.';\n",
              "          element.innerHTML = '';\n",
              "          dataTable['output_type'] = 'display_data';\n",
              "          await google.colab.output.renderOutput(dataTable, element);\n",
              "          const docLink = document.createElement('div');\n",
              "          docLink.innerHTML = docLinkHtml;\n",
              "          element.appendChild(docLink);\n",
              "        }\n",
              "      </script>\n",
              "    </div>\n",
              "  </div>\n",
              "  "
            ],
            "text/plain": [
              "        Id        Date  Hour  ...  IsHoliday  IsFunctioningDay  Bikes_Rented\n",
              "0        0  01/12/2017     0  ...          0                 1           254\n",
              "1        1  01/12/2017     1  ...          0                 1           204\n",
              "2        2  01/12/2017     2  ...          0                 1           173\n",
              "3        3  01/12/2017     3  ...          0                 1           107\n",
              "4        4  01/12/2017     4  ...          0                 1            78\n",
              "...    ...         ...   ...  ...        ...               ...           ...\n",
              "7255  8755  30/11/2018    19  ...          0                 1          1003\n",
              "7256  8756  30/11/2018    20  ...          0                 1           764\n",
              "7257  8757  30/11/2018    21  ...          0                 1           694\n",
              "7258  8758  30/11/2018    22  ...          0                 1           712\n",
              "7259  8759  30/11/2018    23  ...          0                 1           584\n",
              "\n",
              "[7260 rows x 15 columns]"
            ]
          },
          "metadata": {},
          "execution_count": 16
        }
      ]
    },
    {
      "cell_type": "code",
      "source": [
        "train_df.dtypes"
      ],
      "metadata": {
        "colab": {
          "base_uri": "https://localhost:8080/"
        },
        "id": "Cey9jieaD8WS",
        "outputId": "dbc3b276-bfe0-45df-8e04-50b5315afe3b"
      },
      "execution_count": null,
      "outputs": [
        {
          "output_type": "execute_result",
          "data": {
            "text/plain": [
              "Id                    int64\n",
              "Date                 object\n",
              "Hour                  int64\n",
              "Temperature         float64\n",
              "Humidity              int64\n",
              "Wind_Speed          float64\n",
              "Visibility            int64\n",
              "Dew_Point           float64\n",
              "Solar_Radiation     float64\n",
              "Rainfall            float64\n",
              "Snowfall            float64\n",
              "Season               object\n",
              "IsHoliday             int64\n",
              "IsFunctioningDay      int64\n",
              "Bikes_Rented          int64\n",
              "dtype: object"
            ]
          },
          "metadata": {},
          "execution_count": 17
        }
      ]
    },
    {
      "cell_type": "code",
      "source": [
        "train_df.drop(\"Date\",inplace=True,axis=1)\n",
        "train_df.drop(\"Id\",inplace=True,axis=1)\n",
        "train_df.dtypes"
      ],
      "metadata": {
        "colab": {
          "base_uri": "https://localhost:8080/"
        },
        "id": "ooV1vORKEgqv",
        "outputId": "25a3b89a-0aa3-49ba-d65f-0839e778b1f4"
      },
      "execution_count": null,
      "outputs": [
        {
          "output_type": "execute_result",
          "data": {
            "text/plain": [
              "Hour                  int64\n",
              "Temperature         float64\n",
              "Humidity              int64\n",
              "Wind_Speed          float64\n",
              "Visibility            int64\n",
              "Dew_Point           float64\n",
              "Solar_Radiation     float64\n",
              "Rainfall            float64\n",
              "Snowfall            float64\n",
              "Season               object\n",
              "IsHoliday             int64\n",
              "IsFunctioningDay      int64\n",
              "Bikes_Rented          int64\n",
              "dtype: object"
            ]
          },
          "metadata": {},
          "execution_count": 18
        }
      ]
    },
    {
      "cell_type": "markdown",
      "source": [
        "Rename Predicted Column with y"
      ],
      "metadata": {
        "id": "seegsCWVFf4K"
      }
    },
    {
      "cell_type": "code",
      "source": [
        "train_df.rename(columns={'Bikes_Rented':'y'},inplace=True)"
      ],
      "metadata": {
        "id": "hz5DnHntErS6"
      },
      "execution_count": null,
      "outputs": []
    },
    {
      "cell_type": "code",
      "source": [
        "train_df.info()"
      ],
      "metadata": {
        "colab": {
          "base_uri": "https://localhost:8080/"
        },
        "id": "fFhrDxssFcg1",
        "outputId": "4fe98f23-4683-4784-9a0c-0c46ae049f23"
      },
      "execution_count": null,
      "outputs": [
        {
          "output_type": "stream",
          "name": "stdout",
          "text": [
            "<class 'pandas.core.frame.DataFrame'>\n",
            "RangeIndex: 7260 entries, 0 to 7259\n",
            "Data columns (total 13 columns):\n",
            " #   Column            Non-Null Count  Dtype  \n",
            "---  ------            --------------  -----  \n",
            " 0   Hour              7260 non-null   int64  \n",
            " 1   Temperature       7260 non-null   float64\n",
            " 2   Humidity          7260 non-null   int64  \n",
            " 3   Wind_Speed        7260 non-null   float64\n",
            " 4   Visibility        7260 non-null   int64  \n",
            " 5   Dew_Point         7260 non-null   float64\n",
            " 6   Solar_Radiation   7260 non-null   float64\n",
            " 7   Rainfall          7260 non-null   float64\n",
            " 8   Snowfall          7260 non-null   float64\n",
            " 9   Season            7260 non-null   object \n",
            " 10  IsHoliday         7260 non-null   int64  \n",
            " 11  IsFunctioningDay  7260 non-null   int64  \n",
            " 12  y                 7260 non-null   int64  \n",
            "dtypes: float64(6), int64(6), object(1)\n",
            "memory usage: 737.5+ KB\n"
          ]
        }
      ]
    },
    {
      "cell_type": "code",
      "source": [
        "train_df.isna().sum()"
      ],
      "metadata": {
        "colab": {
          "base_uri": "https://localhost:8080/"
        },
        "id": "cBvv7wY3FrOL",
        "outputId": "1921b329-ec29-40af-9c73-5e6a728ce906"
      },
      "execution_count": null,
      "outputs": [
        {
          "output_type": "execute_result",
          "data": {
            "text/plain": [
              "Hour                0\n",
              "Temperature         0\n",
              "Humidity            0\n",
              "Wind_Speed          0\n",
              "Visibility          0\n",
              "Dew_Point           0\n",
              "Solar_Radiation     0\n",
              "Rainfall            0\n",
              "Snowfall            0\n",
              "Season              0\n",
              "IsHoliday           0\n",
              "IsFunctioningDay    0\n",
              "y                   0\n",
              "dtype: int64"
            ]
          },
          "metadata": {},
          "execution_count": 33
        }
      ]
    },
    {
      "cell_type": "markdown",
      "source": [
        "Count duplicated Rows"
      ],
      "metadata": {
        "id": "QCh24sCZIY4J"
      }
    },
    {
      "cell_type": "code",
      "source": [
        "train_df.duplicated().sum()"
      ],
      "metadata": {
        "colab": {
          "base_uri": "https://localhost:8080/"
        },
        "id": "nxJJAdjOF3iw",
        "outputId": "027f6fd1-ebf2-4317-8035-238f9a50282c"
      },
      "execution_count": null,
      "outputs": [
        {
          "output_type": "execute_result",
          "data": {
            "text/plain": [
              "0"
            ]
          },
          "metadata": {},
          "execution_count": 34
        }
      ]
    },
    {
      "cell_type": "markdown",
      "source": [
        "If you want to extract duplicated rows "
      ],
      "metadata": {
        "id": "8FsLq7bYIJsU"
      }
    },
    {
      "cell_type": "code",
      "source": [
        "train_df[train_df.duplicated()]"
      ],
      "metadata": {
        "colab": {
          "base_uri": "https://localhost:8080/",
          "height": 50
        },
        "id": "biJPSHTwGLr3",
        "outputId": "9770d5b2-2b9a-42fe-f87e-03599ca48d28"
      },
      "execution_count": null,
      "outputs": [
        {
          "output_type": "execute_result",
          "data": {
            "text/html": [
              "\n",
              "  <div id=\"df-4d189fd8-3e68-4a3a-90c4-1e9b6040f03b\">\n",
              "    <div class=\"colab-df-container\">\n",
              "      <div>\n",
              "<style scoped>\n",
              "    .dataframe tbody tr th:only-of-type {\n",
              "        vertical-align: middle;\n",
              "    }\n",
              "\n",
              "    .dataframe tbody tr th {\n",
              "        vertical-align: top;\n",
              "    }\n",
              "\n",
              "    .dataframe thead th {\n",
              "        text-align: right;\n",
              "    }\n",
              "</style>\n",
              "<table border=\"1\" class=\"dataframe\">\n",
              "  <thead>\n",
              "    <tr style=\"text-align: right;\">\n",
              "      <th></th>\n",
              "      <th>Hour</th>\n",
              "      <th>Temperature</th>\n",
              "      <th>Humidity</th>\n",
              "      <th>Wind_Speed</th>\n",
              "      <th>Visibility</th>\n",
              "      <th>Dew_Point</th>\n",
              "      <th>Solar_Radiation</th>\n",
              "      <th>Rainfall</th>\n",
              "      <th>Snowfall</th>\n",
              "      <th>Season</th>\n",
              "      <th>IsHoliday</th>\n",
              "      <th>IsFunctioningDay</th>\n",
              "      <th>y</th>\n",
              "    </tr>\n",
              "  </thead>\n",
              "  <tbody>\n",
              "  </tbody>\n",
              "</table>\n",
              "</div>\n",
              "      <button class=\"colab-df-convert\" onclick=\"convertToInteractive('df-4d189fd8-3e68-4a3a-90c4-1e9b6040f03b')\"\n",
              "              title=\"Convert this dataframe to an interactive table.\"\n",
              "              style=\"display:none;\">\n",
              "        \n",
              "  <svg xmlns=\"http://www.w3.org/2000/svg\" height=\"24px\"viewBox=\"0 0 24 24\"\n",
              "       width=\"24px\">\n",
              "    <path d=\"M0 0h24v24H0V0z\" fill=\"none\"/>\n",
              "    <path d=\"M18.56 5.44l.94 2.06.94-2.06 2.06-.94-2.06-.94-.94-2.06-.94 2.06-2.06.94zm-11 1L8.5 8.5l.94-2.06 2.06-.94-2.06-.94L8.5 2.5l-.94 2.06-2.06.94zm10 10l.94 2.06.94-2.06 2.06-.94-2.06-.94-.94-2.06-.94 2.06-2.06.94z\"/><path d=\"M17.41 7.96l-1.37-1.37c-.4-.4-.92-.59-1.43-.59-.52 0-1.04.2-1.43.59L10.3 9.45l-7.72 7.72c-.78.78-.78 2.05 0 2.83L4 21.41c.39.39.9.59 1.41.59.51 0 1.02-.2 1.41-.59l7.78-7.78 2.81-2.81c.8-.78.8-2.07 0-2.86zM5.41 20L4 18.59l7.72-7.72 1.47 1.35L5.41 20z\"/>\n",
              "  </svg>\n",
              "      </button>\n",
              "      \n",
              "  <style>\n",
              "    .colab-df-container {\n",
              "      display:flex;\n",
              "      flex-wrap:wrap;\n",
              "      gap: 12px;\n",
              "    }\n",
              "\n",
              "    .colab-df-convert {\n",
              "      background-color: #E8F0FE;\n",
              "      border: none;\n",
              "      border-radius: 50%;\n",
              "      cursor: pointer;\n",
              "      display: none;\n",
              "      fill: #1967D2;\n",
              "      height: 32px;\n",
              "      padding: 0 0 0 0;\n",
              "      width: 32px;\n",
              "    }\n",
              "\n",
              "    .colab-df-convert:hover {\n",
              "      background-color: #E2EBFA;\n",
              "      box-shadow: 0px 1px 2px rgba(60, 64, 67, 0.3), 0px 1px 3px 1px rgba(60, 64, 67, 0.15);\n",
              "      fill: #174EA6;\n",
              "    }\n",
              "\n",
              "    [theme=dark] .colab-df-convert {\n",
              "      background-color: #3B4455;\n",
              "      fill: #D2E3FC;\n",
              "    }\n",
              "\n",
              "    [theme=dark] .colab-df-convert:hover {\n",
              "      background-color: #434B5C;\n",
              "      box-shadow: 0px 1px 3px 1px rgba(0, 0, 0, 0.15);\n",
              "      filter: drop-shadow(0px 1px 2px rgba(0, 0, 0, 0.3));\n",
              "      fill: #FFFFFF;\n",
              "    }\n",
              "  </style>\n",
              "\n",
              "      <script>\n",
              "        const buttonEl =\n",
              "          document.querySelector('#df-4d189fd8-3e68-4a3a-90c4-1e9b6040f03b button.colab-df-convert');\n",
              "        buttonEl.style.display =\n",
              "          google.colab.kernel.accessAllowed ? 'block' : 'none';\n",
              "\n",
              "        async function convertToInteractive(key) {\n",
              "          const element = document.querySelector('#df-4d189fd8-3e68-4a3a-90c4-1e9b6040f03b');\n",
              "          const dataTable =\n",
              "            await google.colab.kernel.invokeFunction('convertToInteractive',\n",
              "                                                     [key], {});\n",
              "          if (!dataTable) return;\n",
              "\n",
              "          const docLinkHtml = 'Like what you see? Visit the ' +\n",
              "            '<a target=\"_blank\" href=https://colab.research.google.com/notebooks/data_table.ipynb>data table notebook</a>'\n",
              "            + ' to learn more about interactive tables.';\n",
              "          element.innerHTML = '';\n",
              "          dataTable['output_type'] = 'display_data';\n",
              "          await google.colab.output.renderOutput(dataTable, element);\n",
              "          const docLink = document.createElement('div');\n",
              "          docLink.innerHTML = docLinkHtml;\n",
              "          element.appendChild(docLink);\n",
              "        }\n",
              "      </script>\n",
              "    </div>\n",
              "  </div>\n",
              "  "
            ],
            "text/plain": [
              "Empty DataFrame\n",
              "Columns: [Hour, Temperature, Humidity, Wind_Speed, Visibility, Dew_Point, Solar_Radiation, Rainfall, Snowfall, Season, IsHoliday, IsFunctioningDay, y]\n",
              "Index: []"
            ]
          },
          "metadata": {},
          "execution_count": 35
        }
      ]
    },
    {
      "cell_type": "code",
      "source": [
        "plt.bar(train_df['Season'],train_df['y'])\n",
        "plt.show()"
      ],
      "metadata": {
        "colab": {
          "base_uri": "https://localhost:8080/",
          "height": 265
        },
        "id": "5hm4-PIcIV5c",
        "outputId": "5941bbd9-7fdd-4e53-9bad-48c14c43f638"
      },
      "execution_count": null,
      "outputs": [
        {
          "output_type": "display_data",
          "data": {
            "image/png": "[encoded data removed]",
            "text/plain": [
              "<Figure size 432x288 with 1 Axes>"
            ]
          },
          "metadata": {
            "needs_background": "light"
          }
        }
      ]
    },
    {
      "cell_type": "code",
      "source": [
        "plt.bar(train_df.groupby('Season').max()['y'].index,train_df.groupby('Season').max()['y'])"
      ],
      "metadata": {
        "colab": {
          "base_uri": "https://localhost:8080/",
          "height": 282
        },
        "id": "MC_vSSjzM520",
        "outputId": "ff95dc0b-8a55-4f77-b062-795459cd0d59"
      },
      "execution_count": null,
      "outputs": [
        {
          "output_type": "execute_result",
          "data": {
            "text/plain": [
              "<BarContainer object of 4 artists>"
            ]
          },
          "metadata": {},
          "execution_count": 42
        },
        {
          "output_type": "display_data",
          "data": {
            "image/png": "[encoded data removed]",
            "text/plain": [
              "<Figure size 432x288 with 1 Axes>"
            ]
          },
          "metadata": {
            "needs_background": "light"
          }
        }
      ]
    },
    {
      "cell_type": "code",
      "source": [
        "plt.bar(train_df['Hour'],train_df['y'])\n",
        "plt.xticks(range(24))"
      ],
      "metadata": {
        "colab": {
          "base_uri": "https://localhost:8080/",
          "height": 698
        },
        "id": "jYrj8dTKNQ2S",
        "outputId": "fa8fac49-1257-45bb-aaec-fdea8aee061b"
      },
      "execution_count": null,
      "outputs": [
        {
          "output_type": "execute_result",
          "data": {
            "text/plain": [
              "([<matplotlib.axis.XTick at 0x7fe402f46f50>,\n",
              "  <matplotlib.axis.XTick at 0x7fe402f46cd0>,\n",
              "  <matplotlib.axis.XTick at 0x7fe3fd8ea250>,\n",
              "  <matplotlib.axis.XTick at 0x7fe3ff635750>,\n",
              "  <matplotlib.axis.XTick at 0x7fe3f8111690>,\n",
              "  <matplotlib.axis.XTick at 0x7fe3f8111a50>,\n",
              "  <matplotlib.axis.XTick at 0x7fe3f8111b50>,\n",
              "  <matplotlib.axis.XTick at 0x7fe3f8118550>,\n",
              "  <matplotlib.axis.XTick at 0x7fe3f8118a90>,\n",
              "  <matplotlib.axis.XTick at 0x7fe3f8118b90>,\n",
              "  <matplotlib.axis.XTick at 0x7fe3f811f510>,\n",
              "  <matplotlib.axis.XTick at 0x7fe3f811fa50>,\n",
              "  <matplotlib.axis.XTick at 0x7fe3f811f910>,\n",
              "  <matplotlib.axis.XTick at 0x7fe3f811f9d0>,\n",
              "  <matplotlib.axis.XTick at 0x7fe3f81182d0>,\n",
              "  <matplotlib.axis.XTick at 0x7fe3f81184d0>,\n",
              "  <matplotlib.axis.XTick at 0x7fe3f8126910>,\n",
              "  <matplotlib.axis.XTick at 0x7fe3f8126e10>,\n",
              "  <matplotlib.axis.XTick at 0x7fe3f80b0390>,\n",
              "  <matplotlib.axis.XTick at 0x7fe3f80b08d0>,\n",
              "  <matplotlib.axis.XTick at 0x7fe3f80b0e10>,\n",
              "  <matplotlib.axis.XTick at 0x7fe3f80b9390>,\n",
              "  <matplotlib.axis.XTick at 0x7fe3f80b98d0>,\n",
              "  <matplotlib.axis.XTick at 0x7fe3f80b9e10>],\n",
              " <a list of 24 Text major ticklabel objects>)"
            ]
          },
          "metadata": {},
          "execution_count": 44
        },
        {
          "output_type": "display_data",
          "data": {
            "image/png": "[encoded data removed]",
            "text/plain": [
              "<Figure size 432x288 with 1 Axes>"
            ]
          },
          "metadata": {
            "needs_background": "light"
          }
        }
      ]
    },
    {
      "cell_type": "markdown",
      "source": [
        "Let's check outliers existance using box plots "
      ],
      "metadata": {
        "id": "GL-8gsP5OeXp"
      }
    },
    {
      "cell_type": "code",
      "source": [
        "plt.figure(figsize=[20,5])\n",
        "base_color=sns.color_palette()[0]\n",
        "\n",
        "# plt seasons vs y \n",
        "plt.subplot(1,3,1)\n",
        "sns.boxplot(data=train_df, x='Season', y='y', color=base_color)\n",
        "# train_df.boxplot(column=train_df.columns.tolist(),by=['Season'])\n",
        "\n",
        "# plt IsHoliday vs y \n",
        "plt.subplot(1,3,2)\n",
        "sns.boxplot(data=train_df, x='IsHoliday', y='y', color=base_color)\n",
        "\n",
        "# plt IsFunctioningDay vs y \n",
        "plt.subplot(1,3,3)\n",
        "sns.boxplot(data=train_df, x='IsFunctioningDay', y='y', color=base_color)"
      ],
      "metadata": {
        "colab": {
          "base_uri": "https://localhost:8080/",
          "height": 351
        },
        "id": "ZIiFpNfzN49G",
        "outputId": "a3062a37-a965-4359-d232-9ea1bda7c583"
      },
      "execution_count": null,
      "outputs": [
        {
          "output_type": "execute_result",
          "data": {
            "text/plain": [
              "<matplotlib.axes._subplots.AxesSubplot at 0x7fe3f6648310>"
            ]
          },
          "metadata": {},
          "execution_count": 68
        },
        {
          "output_type": "display_data",
          "data": {
            "image/png": "[encoded data removed]",
            "text/plain": [
              "<Figure size 1440x360 with 3 Axes>"
            ]
          },
          "metadata": {
            "needs_background": "light"
          }
        }
      ]
    },
    {
      "cell_type": "code",
      "source": [
        "plt.figure(figsize=[12,8])\n",
        "print(train_df.corr()['y'])\n",
        "sns.heatmap(train_df.corr(),annot=True,fmt='0.2f')"
      ],
      "metadata": {
        "colab": {
          "base_uri": "https://localhost:8080/",
          "height": 806
        },
        "id": "46nMzJ51QSZQ",
        "outputId": "300f9b3c-c638-4546-be45-fccfdf9e52bc"
      },
      "execution_count": null,
      "outputs": [
        {
          "output_type": "stream",
          "name": "stdout",
          "text": [
            "Hour                0.412558\n",
            "Temperature         0.542721\n",
            "Humidity           -0.196400\n",
            "Wind_Speed          0.111693\n",
            "Visibility          0.192391\n",
            "Dew_Point           0.387701\n",
            "Solar_Radiation     0.261868\n",
            "Rainfall           -0.120431\n",
            "Snowfall           -0.143341\n",
            "IsHoliday          -0.067563\n",
            "IsFunctioningDay    0.200254\n",
            "y                   1.000000\n",
            "Name: y, dtype: float64\n"
          ]
        },
        {
          "output_type": "execute_result",
          "data": {
            "text/plain": [
              "<matplotlib.axes._subplots.AxesSubplot at 0x7fe3ec846350>"
            ]
          },
          "metadata": {},
          "execution_count": 75
        },
        {
          "output_type": "display_data",
          "data": {
            "image/png": "[encoded data removed]",
            "text/plain": [
              "<Figure size 864x576 with 2 Axes>"
            ]
          },
          "metadata": {
            "needs_background": "light"
          }
        }
      ]
    },
    {
      "cell_type": "code",
      "source": [
        ""
      ],
      "metadata": {
        "id": "4lYuJsekYabI"
      },
      "execution_count": null,
      "outputs": []
    }
  ],
  "metadata": {
    "colab": {
      "name": "Bike Rental Prediction.ipynb",
      "provenance": [],
      "collapsed_sections": []
    },
    "kernelspec": {
      "display_name": "Python 3",
      "name": "python3"
    },
    "language_info": {
      "name": "python"
    }
  },
  "nbformat": 4,
  "nbformat_minor": 0
}